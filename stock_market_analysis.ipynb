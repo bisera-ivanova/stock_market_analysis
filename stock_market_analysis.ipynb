{
 "cells": [
  {
   "cell_type": "code",
   "execution_count": 21,
   "id": "9e95d734",
   "metadata": {},
   "outputs": [
    {
     "data": {
      "text/plain": [
       "True"
      ]
     },
     "execution_count": 21,
     "metadata": {},
     "output_type": "execute_result"
    }
   ],
   "source": [
    "# loads API Key for data request\n",
    "import os\n",
    "from dotenv import load_dotenv\n",
    "load_dotenv(\"./credentials.env\") \n"
   ]
  },
  {
   "cell_type": "markdown",
   "id": "096a2aa4",
   "metadata": {},
   "source": [
    "Getting data for the past year for the top 20 most active stocks currently. Source: https://www.tradingview.com/markets/stocks-usa/market-movers-active/"
   ]
  },
  {
   "cell_type": "code",
   "execution_count": 22,
   "id": "983a2717",
   "metadata": {},
   "outputs": [],
   "source": [
    "# List of stocks that interest us for the analysis\n",
    "stocks_list = [\"TSLA\", \"AMZN\", \"INTC\", \"AAPL\", \"AVGR\", \"AMD\", \"F\", \"CART\", \"PLTR\", \"NVDA\", \"BAC\", \"RIVN\", \"PINS\", \"T\", \"PFE\", \"LCID\", \"TLRY\", \"AAL\", \"MARA\", \"CCL\", \"AMC\"]"
   ]
  },
  {
   "cell_type": "code",
   "execution_count": 23,
   "id": "d6a39e5e",
   "metadata": {},
   "outputs": [],
   "source": [
    "def gather_stock_data(list_of_stocks):\n",
    "    result = []\n",
    "    for stock in stocks_list:\n",
    "        stock_request_URL = f\"https://api.polygon.io/v2/aggs/ticker/{stock}/range/1/week/2022-01-09/2023-01-09?adjusted=true&sort=asc&limit=120&apiKey={os.environ.get('STOCK_API_KEY')}\"\n",
    "        result.append(stock_request_URL)\n",
    "    return result"
   ]
  },
  {
   "cell_type": "code",
   "execution_count": 24,
   "id": "64a24889",
   "metadata": {},
   "outputs": [
    {
     "name": "stdout",
     "output_type": "stream",
     "text": [
      "['https://api.polygon.io/v2/aggs/ticker/TSLA/range/1/week/2022-01-09/2023-01-09?adjusted=true&sort=asc&limit=120&apiKey=lzWL28xAQe5WHypD3dHLmsH62Am9o_4L', 'https://api.polygon.io/v2/aggs/ticker/AMZN/range/1/week/2022-01-09/2023-01-09?adjusted=true&sort=asc&limit=120&apiKey=lzWL28xAQe5WHypD3dHLmsH62Am9o_4L', 'https://api.polygon.io/v2/aggs/ticker/INTC/range/1/week/2022-01-09/2023-01-09?adjusted=true&sort=asc&limit=120&apiKey=lzWL28xAQe5WHypD3dHLmsH62Am9o_4L', 'https://api.polygon.io/v2/aggs/ticker/AAPL/range/1/week/2022-01-09/2023-01-09?adjusted=true&sort=asc&limit=120&apiKey=lzWL28xAQe5WHypD3dHLmsH62Am9o_4L', 'https://api.polygon.io/v2/aggs/ticker/AVGR/range/1/week/2022-01-09/2023-01-09?adjusted=true&sort=asc&limit=120&apiKey=lzWL28xAQe5WHypD3dHLmsH62Am9o_4L', 'https://api.polygon.io/v2/aggs/ticker/AMD/range/1/week/2022-01-09/2023-01-09?adjusted=true&sort=asc&limit=120&apiKey=lzWL28xAQe5WHypD3dHLmsH62Am9o_4L', 'https://api.polygon.io/v2/aggs/ticker/F/range/1/week/2022-01-09/2023-01-09?adjusted=true&sort=asc&limit=120&apiKey=lzWL28xAQe5WHypD3dHLmsH62Am9o_4L', 'https://api.polygon.io/v2/aggs/ticker/CART/range/1/week/2022-01-09/2023-01-09?adjusted=true&sort=asc&limit=120&apiKey=lzWL28xAQe5WHypD3dHLmsH62Am9o_4L', 'https://api.polygon.io/v2/aggs/ticker/PLTR/range/1/week/2022-01-09/2023-01-09?adjusted=true&sort=asc&limit=120&apiKey=lzWL28xAQe5WHypD3dHLmsH62Am9o_4L', 'https://api.polygon.io/v2/aggs/ticker/NVDA/range/1/week/2022-01-09/2023-01-09?adjusted=true&sort=asc&limit=120&apiKey=lzWL28xAQe5WHypD3dHLmsH62Am9o_4L', 'https://api.polygon.io/v2/aggs/ticker/BAC/range/1/week/2022-01-09/2023-01-09?adjusted=true&sort=asc&limit=120&apiKey=lzWL28xAQe5WHypD3dHLmsH62Am9o_4L', 'https://api.polygon.io/v2/aggs/ticker/RIVN/range/1/week/2022-01-09/2023-01-09?adjusted=true&sort=asc&limit=120&apiKey=lzWL28xAQe5WHypD3dHLmsH62Am9o_4L', 'https://api.polygon.io/v2/aggs/ticker/PINS/range/1/week/2022-01-09/2023-01-09?adjusted=true&sort=asc&limit=120&apiKey=lzWL28xAQe5WHypD3dHLmsH62Am9o_4L', 'https://api.polygon.io/v2/aggs/ticker/T/range/1/week/2022-01-09/2023-01-09?adjusted=true&sort=asc&limit=120&apiKey=lzWL28xAQe5WHypD3dHLmsH62Am9o_4L', 'https://api.polygon.io/v2/aggs/ticker/PFE/range/1/week/2022-01-09/2023-01-09?adjusted=true&sort=asc&limit=120&apiKey=lzWL28xAQe5WHypD3dHLmsH62Am9o_4L', 'https://api.polygon.io/v2/aggs/ticker/LCID/range/1/week/2022-01-09/2023-01-09?adjusted=true&sort=asc&limit=120&apiKey=lzWL28xAQe5WHypD3dHLmsH62Am9o_4L', 'https://api.polygon.io/v2/aggs/ticker/TLRY/range/1/week/2022-01-09/2023-01-09?adjusted=true&sort=asc&limit=120&apiKey=lzWL28xAQe5WHypD3dHLmsH62Am9o_4L', 'https://api.polygon.io/v2/aggs/ticker/AAL/range/1/week/2022-01-09/2023-01-09?adjusted=true&sort=asc&limit=120&apiKey=lzWL28xAQe5WHypD3dHLmsH62Am9o_4L', 'https://api.polygon.io/v2/aggs/ticker/MARA/range/1/week/2022-01-09/2023-01-09?adjusted=true&sort=asc&limit=120&apiKey=lzWL28xAQe5WHypD3dHLmsH62Am9o_4L', 'https://api.polygon.io/v2/aggs/ticker/CCL/range/1/week/2022-01-09/2023-01-09?adjusted=true&sort=asc&limit=120&apiKey=lzWL28xAQe5WHypD3dHLmsH62Am9o_4L', 'https://api.polygon.io/v2/aggs/ticker/AMC/range/1/week/2022-01-09/2023-01-09?adjusted=true&sort=asc&limit=120&apiKey=lzWL28xAQe5WHypD3dHLmsH62Am9o_4L']\n"
     ]
    }
   ],
   "source": [
    "print(gather_stock_data(stocks_list))"
   ]
  },
  {
   "cell_type": "code",
   "execution_count": null,
   "id": "340fe7bd",
   "metadata": {},
   "outputs": [],
   "source": []
  }
 ],
 "metadata": {
  "kernelspec": {
   "display_name": "Python 3 (ipykernel)",
   "language": "python",
   "name": "python3"
  },
  "language_info": {
   "codemirror_mode": {
    "name": "ipython",
    "version": 3
   },
   "file_extension": ".py",
   "mimetype": "text/x-python",
   "name": "python",
   "nbconvert_exporter": "python",
   "pygments_lexer": "ipython3",
   "version": "3.11.4"
  }
 },
 "nbformat": 4,
 "nbformat_minor": 5
}
