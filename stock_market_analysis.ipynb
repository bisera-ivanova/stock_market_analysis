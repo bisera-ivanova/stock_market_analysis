{
 "cells": [
  {
   "cell_type": "code",
   "execution_count": 6,
   "id": "4ef6b974",
   "metadata": {},
   "outputs": [],
   "source": [
    "name=\"Bibi\""
   ]
  },
  {
   "cell_type": "code",
   "execution_count": 12,
   "id": "a7c2aba8",
   "metadata": {},
   "outputs": [
    {
     "data": {
      "text/plain": [
       "'Bisera'"
      ]
     },
     "execution_count": 12,
     "metadata": {},
     "output_type": "execute_result"
    }
   ],
   "source": [
    "name"
   ]
  },
  {
   "cell_type": "code",
   "execution_count": 14,
   "id": "e27af69e",
   "metadata": {},
   "outputs": [],
   "source": [
    "name = \"Bisera\""
   ]
  },
  {
   "cell_type": "markdown",
   "id": "cae93396",
   "metadata": {},
   "source": [
    "1. Make my changes\n",
    "    1. Fix bug\n",
    "    2. Improve formatting\n",
    "        - Make the headings bigger\n",
    "2. Push my commits to GitHub\n",
    "3. Open a pull request\n",
    "    * Describe my changes\n",
    "    * Mention all the members of my team\n",
    "        * Ask for feedback\n",
    "\n",
    "+ Create a list by starting a line with `+`, `-`, or `*`\n",
    "+ Sub-lists are made by indenting 2 spaces:\n",
    "  - Marker character change forces new list start:\n",
    "    * Ac tristique libero volutpat at\n",
    "    + Facilisis in pretium nisl aliquet\n",
    "    - Nulla volutpat aliquam velit\n",
    "   \n",
    "+ Very easy!"
   ]
  },
  {
   "cell_type": "code",
   "execution_count": null,
   "id": "7e4f02ff",
   "metadata": {},
   "outputs": [],
   "source": []
  }
 ],
 "metadata": {
  "kernelspec": {
   "display_name": "Python 3 (ipykernel)",
   "language": "python",
   "name": "python3"
  },
  "language_info": {
   "codemirror_mode": {
    "name": "ipython",
    "version": 3
   },
   "file_extension": ".py",
   "mimetype": "text/x-python",
   "name": "python",
   "nbconvert_exporter": "python",
   "pygments_lexer": "ipython3",
   "version": "3.8.18"
  }
 },
 "nbformat": 4,
 "nbformat_minor": 5
}
